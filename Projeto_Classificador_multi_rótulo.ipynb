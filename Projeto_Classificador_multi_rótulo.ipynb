{
  "nbformat": 4,
  "nbformat_minor": 0,
  "metadata": {
    "colab": {
      "provenance": [],
      "collapsed_sections": [
        "Y7_y0jhJT07J",
        "WGk5PRjyf2-_",
        "48lIyTT8f_WM",
        "sQ-xb0y1UG5t",
        "z8gmBLZ6UmXt",
        "MEQSTz5hUzu7",
        "a13jRevAVTtw",
        "Jit55Ow6XTsN",
        "LBDFvogr8KU5",
        "ilZOtYHE8lsy",
        "hEVYI6S98wrR",
        "sRChagwoXMJd",
        "ejnVB2b7c3DM",
        "zoBVjzDIodVK",
        "CweldY8L80vD",
        "YMpbvWFzXX1O"
      ],
      "include_colab_link": true
    },
    "kernelspec": {
      "name": "python3",
      "display_name": "Python 3"
    },
    "language_info": {
      "name": "python"
    }
  },
  "cells": [
    {
      "cell_type": "markdown",
      "metadata": {
        "id": "view-in-github",
        "colab_type": "text"
      },
      "source": [
        "<a href=\"https://colab.research.google.com/github/LucasBezerraSantos/Projetos_BlueEdtech/blob/main/Projeto_Classificador_multi_r%C3%B3tulo.ipynb\" target=\"_parent\"><img src=\"https://colab.research.google.com/assets/colab-badge.svg\" alt=\"Open In Colab\"/></a>"
      ]
    },
    {
      "cell_type": "markdown",
      "source": [
        "# Projeto - Classificador multi-rótulo - arXiv Paper Abstract\n",
        "Lucas Bezerra - Ciência de Dados\n",
        "\n",
        "----\n",
        "Este projeto tem o objetivo de realizar uma classificação de artigos ciêntificos. São realizados testes com classificação a partir das sinópses, como também, através dos títulos. O objetivo é avaliar qual a entrada de dados mais eficiênte para o treinamento e classificação.\n"
      ],
      "metadata": {
        "id": "i1efki_7-X4g"
      }
    },
    {
      "cell_type": "markdown",
      "source": [
        "## Leitura dos dados e rotinas de pré-processamento"
      ],
      "metadata": {
        "id": "Y7_y0jhJT07J"
      }
    },
    {
      "cell_type": "markdown",
      "source": [
        "### Bibliotecas utilizadas"
      ],
      "metadata": {
        "id": "WGk5PRjyf2-_"
      }
    },
    {
      "cell_type": "code",
      "source": [
        "import re\n",
        "\n",
        "import numpy as np\n",
        "import pandas as pd\n",
        "\n",
        "from nltk import word_tokenize\n",
        "from nltk.corpus import stopwords\n",
        "from nltk.stem import WordNetLemmatizer\n",
        "from nltk.stem import PorterStemmer\n",
        "\n",
        "from sklearn.preprocessing import MultiLabelBinarizer\n",
        "from sklearn.feature_extraction.text import CountVectorizer\n",
        "from sklearn.feature_extraction.text import TfidfTransformer\n",
        "from sklearn.model_selection import train_test_split\n",
        "\n",
        "from sklearn.multiclass import OneVsRestClassifier\n",
        "from sklearn.linear_model import SGDClassifier\n",
        "\n",
        "from sklearn.metrics import f1_score"
      ],
      "metadata": {
        "id": "w-yN7GkV-ck7"
      },
      "execution_count": null,
      "outputs": []
    },
    {
      "cell_type": "code",
      "source": [
        "import nltk\n",
        "nltk.download('all')"
      ],
      "metadata": {
        "colab": {
          "base_uri": "https://localhost:8080/"
        },
        "id": "1P__QzOXAflH",
        "outputId": "77a9d5f5-177d-40a4-a3c5-ee8f85269802"
      },
      "execution_count": null,
      "outputs": [
        {
          "output_type": "stream",
          "name": "stderr",
          "text": [
            "[nltk_data] Downloading collection 'all'\n",
            "[nltk_data]    | \n",
            "[nltk_data]    | Downloading package abc to /root/nltk_data...\n",
            "[nltk_data]    |   Package abc is already up-to-date!\n",
            "[nltk_data]    | Downloading package alpino to /root/nltk_data...\n",
            "[nltk_data]    |   Package alpino is already up-to-date!\n",
            "[nltk_data]    | Downloading package averaged_perceptron_tagger to\n",
            "[nltk_data]    |     /root/nltk_data...\n",
            "[nltk_data]    |   Package averaged_perceptron_tagger is already up-\n",
            "[nltk_data]    |       to-date!\n",
            "[nltk_data]    | Downloading package averaged_perceptron_tagger_ru to\n",
            "[nltk_data]    |     /root/nltk_data...\n",
            "[nltk_data]    |   Package averaged_perceptron_tagger_ru is already\n",
            "[nltk_data]    |       up-to-date!\n",
            "[nltk_data]    | Downloading package basque_grammars to\n",
            "[nltk_data]    |     /root/nltk_data...\n",
            "[nltk_data]    |   Package basque_grammars is already up-to-date!\n",
            "[nltk_data]    | Downloading package biocreative_ppi to\n",
            "[nltk_data]    |     /root/nltk_data...\n",
            "[nltk_data]    |   Package biocreative_ppi is already up-to-date!\n",
            "[nltk_data]    | Downloading package bllip_wsj_no_aux to\n",
            "[nltk_data]    |     /root/nltk_data...\n",
            "[nltk_data]    |   Package bllip_wsj_no_aux is already up-to-date!\n",
            "[nltk_data]    | Downloading package book_grammars to\n",
            "[nltk_data]    |     /root/nltk_data...\n",
            "[nltk_data]    |   Package book_grammars is already up-to-date!\n",
            "[nltk_data]    | Downloading package brown to /root/nltk_data...\n",
            "[nltk_data]    |   Package brown is already up-to-date!\n",
            "[nltk_data]    | Downloading package brown_tei to /root/nltk_data...\n",
            "[nltk_data]    |   Package brown_tei is already up-to-date!\n",
            "[nltk_data]    | Downloading package cess_cat to /root/nltk_data...\n",
            "[nltk_data]    |   Package cess_cat is already up-to-date!\n",
            "[nltk_data]    | Downloading package cess_esp to /root/nltk_data...\n",
            "[nltk_data]    |   Package cess_esp is already up-to-date!\n",
            "[nltk_data]    | Downloading package chat80 to /root/nltk_data...\n",
            "[nltk_data]    |   Package chat80 is already up-to-date!\n",
            "[nltk_data]    | Downloading package city_database to\n",
            "[nltk_data]    |     /root/nltk_data...\n",
            "[nltk_data]    |   Package city_database is already up-to-date!\n",
            "[nltk_data]    | Downloading package cmudict to /root/nltk_data...\n",
            "[nltk_data]    |   Package cmudict is already up-to-date!\n",
            "[nltk_data]    | Downloading package comparative_sentences to\n",
            "[nltk_data]    |     /root/nltk_data...\n",
            "[nltk_data]    |   Package comparative_sentences is already up-to-\n",
            "[nltk_data]    |       date!\n",
            "[nltk_data]    | Downloading package comtrans to /root/nltk_data...\n",
            "[nltk_data]    |   Package comtrans is already up-to-date!\n",
            "[nltk_data]    | Downloading package conll2000 to /root/nltk_data...\n",
            "[nltk_data]    |   Package conll2000 is already up-to-date!\n",
            "[nltk_data]    | Downloading package conll2002 to /root/nltk_data...\n",
            "[nltk_data]    |   Package conll2002 is already up-to-date!\n",
            "[nltk_data]    | Downloading package conll2007 to /root/nltk_data...\n",
            "[nltk_data]    |   Package conll2007 is already up-to-date!\n",
            "[nltk_data]    | Downloading package crubadan to /root/nltk_data...\n",
            "[nltk_data]    |   Package crubadan is already up-to-date!\n",
            "[nltk_data]    | Downloading package dependency_treebank to\n",
            "[nltk_data]    |     /root/nltk_data...\n",
            "[nltk_data]    |   Package dependency_treebank is already up-to-date!\n",
            "[nltk_data]    | Downloading package dolch to /root/nltk_data...\n",
            "[nltk_data]    |   Package dolch is already up-to-date!\n",
            "[nltk_data]    | Downloading package europarl_raw to\n",
            "[nltk_data]    |     /root/nltk_data...\n",
            "[nltk_data]    |   Package europarl_raw is already up-to-date!\n",
            "[nltk_data]    | Downloading package extended_omw to\n",
            "[nltk_data]    |     /root/nltk_data...\n",
            "[nltk_data]    |   Package extended_omw is already up-to-date!\n",
            "[nltk_data]    | Downloading package floresta to /root/nltk_data...\n",
            "[nltk_data]    |   Package floresta is already up-to-date!\n",
            "[nltk_data]    | Downloading package framenet_v15 to\n",
            "[nltk_data]    |     /root/nltk_data...\n",
            "[nltk_data]    |   Package framenet_v15 is already up-to-date!\n",
            "[nltk_data]    | Downloading package framenet_v17 to\n",
            "[nltk_data]    |     /root/nltk_data...\n",
            "[nltk_data]    |   Package framenet_v17 is already up-to-date!\n",
            "[nltk_data]    | Downloading package gazetteers to /root/nltk_data...\n",
            "[nltk_data]    |   Package gazetteers is already up-to-date!\n",
            "[nltk_data]    | Downloading package genesis to /root/nltk_data...\n",
            "[nltk_data]    |   Package genesis is already up-to-date!\n",
            "[nltk_data]    | Downloading package gutenberg to /root/nltk_data...\n",
            "[nltk_data]    |   Package gutenberg is already up-to-date!\n",
            "[nltk_data]    | Downloading package ieer to /root/nltk_data...\n",
            "[nltk_data]    |   Package ieer is already up-to-date!\n",
            "[nltk_data]    | Downloading package inaugural to /root/nltk_data...\n",
            "[nltk_data]    |   Package inaugural is already up-to-date!\n",
            "[nltk_data]    | Downloading package indian to /root/nltk_data...\n",
            "[nltk_data]    |   Package indian is already up-to-date!\n",
            "[nltk_data]    | Downloading package jeita to /root/nltk_data...\n",
            "[nltk_data]    |   Package jeita is already up-to-date!\n",
            "[nltk_data]    | Downloading package kimmo to /root/nltk_data...\n",
            "[nltk_data]    |   Package kimmo is already up-to-date!\n",
            "[nltk_data]    | Downloading package knbc to /root/nltk_data...\n",
            "[nltk_data]    |   Package knbc is already up-to-date!\n",
            "[nltk_data]    | Downloading package large_grammars to\n",
            "[nltk_data]    |     /root/nltk_data...\n",
            "[nltk_data]    |   Package large_grammars is already up-to-date!\n",
            "[nltk_data]    | Downloading package lin_thesaurus to\n",
            "[nltk_data]    |     /root/nltk_data...\n",
            "[nltk_data]    |   Package lin_thesaurus is already up-to-date!\n",
            "[nltk_data]    | Downloading package mac_morpho to /root/nltk_data...\n",
            "[nltk_data]    |   Package mac_morpho is already up-to-date!\n",
            "[nltk_data]    | Downloading package machado to /root/nltk_data...\n",
            "[nltk_data]    |   Package machado is already up-to-date!\n",
            "[nltk_data]    | Downloading package masc_tagged to /root/nltk_data...\n",
            "[nltk_data]    |   Package masc_tagged is already up-to-date!\n",
            "[nltk_data]    | Downloading package maxent_ne_chunker to\n",
            "[nltk_data]    |     /root/nltk_data...\n",
            "[nltk_data]    |   Package maxent_ne_chunker is already up-to-date!\n",
            "[nltk_data]    | Downloading package maxent_treebank_pos_tagger to\n",
            "[nltk_data]    |     /root/nltk_data...\n",
            "[nltk_data]    |   Package maxent_treebank_pos_tagger is already up-\n",
            "[nltk_data]    |       to-date!\n",
            "[nltk_data]    | Downloading package moses_sample to\n",
            "[nltk_data]    |     /root/nltk_data...\n",
            "[nltk_data]    |   Package moses_sample is already up-to-date!\n",
            "[nltk_data]    | Downloading package movie_reviews to\n",
            "[nltk_data]    |     /root/nltk_data...\n",
            "[nltk_data]    |   Package movie_reviews is already up-to-date!\n",
            "[nltk_data]    | Downloading package mte_teip5 to /root/nltk_data...\n",
            "[nltk_data]    |   Package mte_teip5 is already up-to-date!\n",
            "[nltk_data]    | Downloading package mwa_ppdb to /root/nltk_data...\n",
            "[nltk_data]    |   Package mwa_ppdb is already up-to-date!\n",
            "[nltk_data]    | Downloading package names to /root/nltk_data...\n",
            "[nltk_data]    |   Package names is already up-to-date!\n",
            "[nltk_data]    | Downloading package nombank.1.0 to /root/nltk_data...\n",
            "[nltk_data]    |   Package nombank.1.0 is already up-to-date!\n",
            "[nltk_data]    | Downloading package nonbreaking_prefixes to\n",
            "[nltk_data]    |     /root/nltk_data...\n",
            "[nltk_data]    |   Package nonbreaking_prefixes is already up-to-date!\n",
            "[nltk_data]    | Downloading package nps_chat to /root/nltk_data...\n",
            "[nltk_data]    |   Package nps_chat is already up-to-date!\n",
            "[nltk_data]    | Downloading package omw to /root/nltk_data...\n",
            "[nltk_data]    |   Package omw is already up-to-date!\n",
            "[nltk_data]    | Downloading package omw-1.4 to /root/nltk_data...\n",
            "[nltk_data]    |   Package omw-1.4 is already up-to-date!\n",
            "[nltk_data]    | Downloading package opinion_lexicon to\n",
            "[nltk_data]    |     /root/nltk_data...\n",
            "[nltk_data]    |   Package opinion_lexicon is already up-to-date!\n",
            "[nltk_data]    | Downloading package panlex_swadesh to\n",
            "[nltk_data]    |     /root/nltk_data...\n",
            "[nltk_data]    |   Package panlex_swadesh is already up-to-date!\n",
            "[nltk_data]    | Downloading package paradigms to /root/nltk_data...\n",
            "[nltk_data]    |   Package paradigms is already up-to-date!\n",
            "[nltk_data]    | Downloading package pe08 to /root/nltk_data...\n",
            "[nltk_data]    |   Package pe08 is already up-to-date!\n",
            "[nltk_data]    | Downloading package perluniprops to\n",
            "[nltk_data]    |     /root/nltk_data...\n",
            "[nltk_data]    |   Package perluniprops is already up-to-date!\n",
            "[nltk_data]    | Downloading package pil to /root/nltk_data...\n",
            "[nltk_data]    |   Package pil is already up-to-date!\n",
            "[nltk_data]    | Downloading package pl196x to /root/nltk_data...\n",
            "[nltk_data]    |   Package pl196x is already up-to-date!\n",
            "[nltk_data]    | Downloading package porter_test to /root/nltk_data...\n",
            "[nltk_data]    |   Package porter_test is already up-to-date!\n",
            "[nltk_data]    | Downloading package ppattach to /root/nltk_data...\n",
            "[nltk_data]    |   Package ppattach is already up-to-date!\n",
            "[nltk_data]    | Downloading package problem_reports to\n",
            "[nltk_data]    |     /root/nltk_data...\n",
            "[nltk_data]    |   Package problem_reports is already up-to-date!\n",
            "[nltk_data]    | Downloading package product_reviews_1 to\n",
            "[nltk_data]    |     /root/nltk_data...\n",
            "[nltk_data]    |   Package product_reviews_1 is already up-to-date!\n",
            "[nltk_data]    | Downloading package product_reviews_2 to\n",
            "[nltk_data]    |     /root/nltk_data...\n",
            "[nltk_data]    |   Package product_reviews_2 is already up-to-date!\n",
            "[nltk_data]    | Downloading package propbank to /root/nltk_data...\n",
            "[nltk_data]    |   Package propbank is already up-to-date!\n",
            "[nltk_data]    | Downloading package pros_cons to /root/nltk_data...\n",
            "[nltk_data]    |   Package pros_cons is already up-to-date!\n",
            "[nltk_data]    | Downloading package ptb to /root/nltk_data...\n",
            "[nltk_data]    |   Package ptb is already up-to-date!\n",
            "[nltk_data]    | Downloading package punkt to /root/nltk_data...\n",
            "[nltk_data]    |   Package punkt is already up-to-date!\n",
            "[nltk_data]    | Downloading package qc to /root/nltk_data...\n",
            "[nltk_data]    |   Package qc is already up-to-date!\n",
            "[nltk_data]    | Downloading package reuters to /root/nltk_data...\n",
            "[nltk_data]    |   Package reuters is already up-to-date!\n",
            "[nltk_data]    | Downloading package rslp to /root/nltk_data...\n",
            "[nltk_data]    |   Package rslp is already up-to-date!\n",
            "[nltk_data]    | Downloading package rte to /root/nltk_data...\n",
            "[nltk_data]    |   Package rte is already up-to-date!\n",
            "[nltk_data]    | Downloading package sample_grammars to\n",
            "[nltk_data]    |     /root/nltk_data...\n",
            "[nltk_data]    |   Package sample_grammars is already up-to-date!\n",
            "[nltk_data]    | Downloading package semcor to /root/nltk_data...\n",
            "[nltk_data]    |   Package semcor is already up-to-date!\n",
            "[nltk_data]    | Downloading package senseval to /root/nltk_data...\n",
            "[nltk_data]    |   Package senseval is already up-to-date!\n",
            "[nltk_data]    | Downloading package sentence_polarity to\n",
            "[nltk_data]    |     /root/nltk_data...\n",
            "[nltk_data]    |   Package sentence_polarity is already up-to-date!\n",
            "[nltk_data]    | Downloading package sentiwordnet to\n",
            "[nltk_data]    |     /root/nltk_data...\n",
            "[nltk_data]    |   Package sentiwordnet is already up-to-date!\n",
            "[nltk_data]    | Downloading package shakespeare to /root/nltk_data...\n",
            "[nltk_data]    |   Package shakespeare is already up-to-date!\n",
            "[nltk_data]    | Downloading package sinica_treebank to\n",
            "[nltk_data]    |     /root/nltk_data...\n",
            "[nltk_data]    |   Package sinica_treebank is already up-to-date!\n",
            "[nltk_data]    | Downloading package smultron to /root/nltk_data...\n",
            "[nltk_data]    |   Package smultron is already up-to-date!\n",
            "[nltk_data]    | Downloading package snowball_data to\n",
            "[nltk_data]    |     /root/nltk_data...\n",
            "[nltk_data]    |   Package snowball_data is already up-to-date!\n",
            "[nltk_data]    | Downloading package spanish_grammars to\n",
            "[nltk_data]    |     /root/nltk_data...\n",
            "[nltk_data]    |   Package spanish_grammars is already up-to-date!\n",
            "[nltk_data]    | Downloading package state_union to /root/nltk_data...\n",
            "[nltk_data]    |   Package state_union is already up-to-date!\n",
            "[nltk_data]    | Downloading package stopwords to /root/nltk_data...\n",
            "[nltk_data]    |   Package stopwords is already up-to-date!\n",
            "[nltk_data]    | Downloading package subjectivity to\n",
            "[nltk_data]    |     /root/nltk_data...\n",
            "[nltk_data]    |   Package subjectivity is already up-to-date!\n",
            "[nltk_data]    | Downloading package swadesh to /root/nltk_data...\n",
            "[nltk_data]    |   Package swadesh is already up-to-date!\n",
            "[nltk_data]    | Downloading package switchboard to /root/nltk_data...\n",
            "[nltk_data]    |   Package switchboard is already up-to-date!\n",
            "[nltk_data]    | Downloading package tagsets to /root/nltk_data...\n",
            "[nltk_data]    |   Package tagsets is already up-to-date!\n",
            "[nltk_data]    | Downloading package timit to /root/nltk_data...\n",
            "[nltk_data]    |   Package timit is already up-to-date!\n",
            "[nltk_data]    | Downloading package toolbox to /root/nltk_data...\n",
            "[nltk_data]    |   Package toolbox is already up-to-date!\n",
            "[nltk_data]    | Downloading package treebank to /root/nltk_data...\n",
            "[nltk_data]    |   Package treebank is already up-to-date!\n",
            "[nltk_data]    | Downloading package twitter_samples to\n",
            "[nltk_data]    |     /root/nltk_data...\n",
            "[nltk_data]    |   Package twitter_samples is already up-to-date!\n",
            "[nltk_data]    | Downloading package udhr to /root/nltk_data...\n",
            "[nltk_data]    |   Package udhr is already up-to-date!\n",
            "[nltk_data]    | Downloading package udhr2 to /root/nltk_data...\n",
            "[nltk_data]    |   Package udhr2 is already up-to-date!\n",
            "[nltk_data]    | Downloading package unicode_samples to\n",
            "[nltk_data]    |     /root/nltk_data...\n",
            "[nltk_data]    |   Package unicode_samples is already up-to-date!\n",
            "[nltk_data]    | Downloading package universal_tagset to\n",
            "[nltk_data]    |     /root/nltk_data...\n",
            "[nltk_data]    |   Package universal_tagset is already up-to-date!\n",
            "[nltk_data]    | Downloading package universal_treebanks_v20 to\n",
            "[nltk_data]    |     /root/nltk_data...\n",
            "[nltk_data]    |   Package universal_treebanks_v20 is already up-to-\n",
            "[nltk_data]    |       date!\n",
            "[nltk_data]    | Downloading package vader_lexicon to\n",
            "[nltk_data]    |     /root/nltk_data...\n",
            "[nltk_data]    |   Package vader_lexicon is already up-to-date!\n",
            "[nltk_data]    | Downloading package verbnet to /root/nltk_data...\n",
            "[nltk_data]    |   Package verbnet is already up-to-date!\n",
            "[nltk_data]    | Downloading package verbnet3 to /root/nltk_data...\n",
            "[nltk_data]    |   Package verbnet3 is already up-to-date!\n",
            "[nltk_data]    | Downloading package webtext to /root/nltk_data...\n",
            "[nltk_data]    |   Package webtext is already up-to-date!\n",
            "[nltk_data]    | Downloading package wmt15_eval to /root/nltk_data...\n",
            "[nltk_data]    |   Package wmt15_eval is already up-to-date!\n",
            "[nltk_data]    | Downloading package word2vec_sample to\n",
            "[nltk_data]    |     /root/nltk_data...\n",
            "[nltk_data]    |   Package word2vec_sample is already up-to-date!\n",
            "[nltk_data]    | Downloading package wordnet to /root/nltk_data...\n",
            "[nltk_data]    |   Package wordnet is already up-to-date!\n",
            "[nltk_data]    | Downloading package wordnet2021 to /root/nltk_data...\n",
            "[nltk_data]    |   Package wordnet2021 is already up-to-date!\n",
            "[nltk_data]    | Downloading package wordnet31 to /root/nltk_data...\n",
            "[nltk_data]    |   Package wordnet31 is already up-to-date!\n",
            "[nltk_data]    | Downloading package wordnet_ic to /root/nltk_data...\n",
            "[nltk_data]    |   Package wordnet_ic is already up-to-date!\n",
            "[nltk_data]    | Downloading package words to /root/nltk_data...\n",
            "[nltk_data]    |   Package words is already up-to-date!\n",
            "[nltk_data]    | Downloading package ycoe to /root/nltk_data...\n",
            "[nltk_data]    |   Package ycoe is already up-to-date!\n",
            "[nltk_data]    | \n",
            "[nltk_data]  Done downloading collection all\n"
          ]
        },
        {
          "output_type": "execute_result",
          "data": {
            "text/plain": [
              "True"
            ]
          },
          "metadata": {},
          "execution_count": 2
        }
      ]
    },
    {
      "cell_type": "markdown",
      "source": [
        "### Configuração de híperparametros"
      ],
      "metadata": {
        "id": "48lIyTT8f_WM"
      }
    },
    {
      "cell_type": "code",
      "source": [
        "stop_words = stopwords.words('english')\n",
        "lemmatizer = WordNetLemmatizer()\n",
        "stemmer = PorterStemmer()\n",
        "mlb = MultiLabelBinarizer()\n",
        "vectorizer = CountVectorizer(analyzer='word', ngram_range=(2, 2))\n",
        "tfidf_transformer = TfidfTransformer()"
      ],
      "metadata": {
        "id": "QEKq1wj_AiTE"
      },
      "execution_count": null,
      "outputs": []
    },
    {
      "cell_type": "code",
      "source": [
        "imdb_dados = pd.read_csv('/content/drive/MyDrive/Colab Notebooks/arxiv_data_210930-054931.csv')"
      ],
      "metadata": {
        "id": "K5z7Fo5jAXDL"
      },
      "execution_count": null,
      "outputs": []
    },
    {
      "cell_type": "markdown",
      "source": [
        "### Tratamento dos rótulos"
      ],
      "metadata": {
        "id": "sQ-xb0y1UG5t"
      }
    },
    {
      "cell_type": "markdown",
      "source": [
        "✅ Começaremos tratando a coluna \"Terms\" que representa a **Categoria** de cada artigo ciêntifico. Excluiremos os termos que aparecem em menos de 1% dos casos, para que o algoritmo foque em dados recorrentes e classifique melhor. "
      ],
      "metadata": {
        "id": "UqUyDN-CXybG"
      }
    },
    {
      "cell_type": "code",
      "source": [
        "contagem = imdb_dados.terms.value_counts()"
      ],
      "metadata": {
        "id": "zSnhPsS3Dw4m"
      },
      "execution_count": null,
      "outputs": []
    },
    {
      "cell_type": "code",
      "source": [
        "contagem = imdb_dados.terms.value_counts()\n",
        "manter = contagem[contagem > 400]\n",
        "imdb_dados = imdb_dados[imdb_dados.terms.isin(manter.index)]\n",
        "\n",
        "titulos = imdb_dados.titles\n",
        "sinopses = imdb_dados.abstracts\n",
        "generos  = imdb_dados.terms.apply(lambda x : [n.strip() for n in x.split(',')]).tolist()"
      ],
      "metadata": {
        "id": "tBbPTcRMEi32"
      },
      "execution_count": null,
      "outputs": []
    },
    {
      "cell_type": "code",
      "source": [
        "# Limpa caracteres especiais da coluna de Terms\n",
        "\n",
        "termos_limpos = imdb_dados['terms'].apply(lambda x: re.sub(r\"(@[A-Za-z0-9]+)|([^0-9A-Za-z \\t])|(\\w+:\\/\\/\\S+)|^rt|http.+?\", '', x))"
      ],
      "metadata": {
        "id": "T5OE68BoJHcG"
      },
      "execution_count": null,
      "outputs": []
    },
    {
      "cell_type": "code",
      "source": [
        "new_imdb_dados = pd.concat( (imdb_dados, termos_limpos), axis=1)\n",
        "new_imdb_dados = new_imdb_dados.iloc[:,1:4]"
      ],
      "metadata": {
        "id": "JGEqxQD5JioN"
      },
      "execution_count": null,
      "outputs": []
    },
    {
      "cell_type": "markdown",
      "source": [
        "✅ Agora vamos converter as categorias em números"
      ],
      "metadata": {
        "id": "2o6ISUDrb3LX"
      }
    },
    {
      "cell_type": "code",
      "source": [
        "mlb.fit(new_imdb_dados['terms'])\n",
        "y = mlb.transform(new_imdb_dados['terms'])"
      ],
      "metadata": {
        "id": "2mr_rIW0IB4m"
      },
      "execution_count": null,
      "outputs": []
    },
    {
      "cell_type": "code",
      "source": [
        "y"
      ],
      "metadata": {
        "colab": {
          "base_uri": "https://localhost:8080/"
        },
        "id": "GX9W_5vsbm-X",
        "outputId": "ee6b907b-39a1-45a9-eaf6-d6cbc9b373e3"
      },
      "execution_count": null,
      "outputs": [
        {
          "output_type": "execute_result",
          "data": {
            "text/plain": [
              "array([[0, 0, 0, ..., 0, 1, 0],\n",
              "       [1, 1, 0, ..., 0, 1, 0],\n",
              "       [0, 0, 0, ..., 0, 1, 0],\n",
              "       ...,\n",
              "       [1, 0, 0, ..., 0, 1, 1],\n",
              "       [0, 0, 0, ..., 0, 1, 0],\n",
              "       [1, 1, 0, ..., 0, 1, 1]])"
            ]
          },
          "metadata": {},
          "execution_count": 10
        }
      ]
    },
    {
      "cell_type": "code",
      "source": [
        "# funcao para tratar cada palavra e remover stopwords\n",
        "def processamento(tokens):\n",
        "    \n",
        "    token_processado = []\n",
        "    for token in tokens:\n",
        "        token = token.lower()\n",
        "        token = lemmatizer.lemmatize(token)\n",
        "        \n",
        "        if token not in stop_words:\n",
        "            token = stemmer.stem(token)\n",
        "            token_processado.append(token)\n",
        "        \n",
        "    return token_processado"
      ],
      "metadata": {
        "id": "OA8i2smmKNro"
      },
      "execution_count": null,
      "outputs": []
    },
    {
      "cell_type": "markdown",
      "source": [
        "### Tratamento de \"abstacts\""
      ],
      "metadata": {
        "id": "z8gmBLZ6UmXt"
      }
    },
    {
      "cell_type": "markdown",
      "source": [
        "✅ Assim como fizemos com a coluna de **Terms**, também converteremos a coluna de **Abstacts** para valores númericos. Acrescentaremos a remoção de StopWords por ser um conjunto de palavras e faremos a Lematização. Devido ao ganho de informação escolhemos a coluna Abstacts, pois nela tem o contexto de cada artigo ciêntifico e palavras que ajudarão na classificação."
      ],
      "metadata": {
        "id": "9EhvMIj1c-J6"
      }
    },
    {
      "cell_type": "code",
      "source": [
        "documentos = []\n",
        "for sinopse in sinopses:\n",
        "    \n",
        "    # expressao regular para remover pontuacoes do texto\n",
        "    sinopse = re.sub(r'[^\\w\\s]','', sinopse)\n",
        "    tokens = processamento(word_tokenize(sinopse))\n",
        "    \n",
        "    documentos.append(' '.join(tokens))\n",
        "\n",
        "X_train_counts = vectorizer.fit_transform(documentos)\n",
        "X_train_tfidf = tfidf_transformer.fit_transform(X_train_counts)\n",
        "\n",
        "X = X_train_tfidf"
      ],
      "metadata": {
        "id": "fEuU-r4tWJeV"
      },
      "execution_count": null,
      "outputs": []
    },
    {
      "cell_type": "code",
      "source": [
        "X.shape"
      ],
      "metadata": {
        "colab": {
          "base_uri": "https://localhost:8080/"
        },
        "id": "Yc2hg9P6PF5w",
        "outputId": "294016ba-e839-4c46-c9a0-527f8ec7cf2d"
      },
      "execution_count": null,
      "outputs": [
        {
          "output_type": "execute_result",
          "data": {
            "text/plain": [
              "(40168, 1042681)"
            ]
          },
          "metadata": {},
          "execution_count": 13
        }
      ]
    },
    {
      "cell_type": "code",
      "source": [
        "from sklearn.decomposition import TruncatedSVD"
      ],
      "metadata": {
        "id": "u3RBLdFnQ9Nq"
      },
      "execution_count": null,
      "outputs": []
    },
    {
      "cell_type": "code",
      "source": [
        "#Este transformador realiza redução de dimensionalidade linear por meio de decomposição de valor singular truncado (SVD). \n",
        "#Ao contrário do PCA, este estimador não centraliza os dados antes de calcular a decomposição do valor singular. \n",
        "#Isso significa que ele pode trabalhar com matrizes esparsas de forma eficiente\n",
        "\n",
        "svd = TruncatedSVD(n_components=5, n_iter=7, random_state=42)\n",
        "svd.fit(X)"
      ],
      "metadata": {
        "colab": {
          "base_uri": "https://localhost:8080/"
        },
        "id": "rrTW74rTRAhK",
        "outputId": "6723a079-7954-446f-a750-ffda1f37b226"
      },
      "execution_count": null,
      "outputs": [
        {
          "output_type": "execute_result",
          "data": {
            "text/plain": [
              "TruncatedSVD(n_components=5, n_iter=7, random_state=42)"
            ]
          },
          "metadata": {},
          "execution_count": 15
        }
      ]
    },
    {
      "cell_type": "markdown",
      "source": [
        "### Pequena visualização do conteúdo dos textos"
      ],
      "metadata": {
        "id": "MEQSTz5hUzu7"
      }
    },
    {
      "cell_type": "code",
      "source": [
        "from matplotlib.colors import ListedColormap\n",
        "from wordcloud import WordCloud\n",
        "import matplotlib.pyplot as plt"
      ],
      "metadata": {
        "id": "hjti4STggBax"
      },
      "execution_count": null,
      "outputs": []
    },
    {
      "cell_type": "code",
      "source": [
        "ver_sinopse = str(sinopses)"
      ],
      "metadata": {
        "id": "OV01YGZrgsxQ"
      },
      "execution_count": null,
      "outputs": []
    },
    {
      "cell_type": "code",
      "source": [
        "mapa_cores = ListedColormap(['orange','green','red','magenta'])\n",
        "nuvem = WordCloud(background_color= 'white', \n",
        "                  colormap = mapa_cores,\n",
        "                  max_words = 100)\n",
        "nuvem.generate(ver_sinopse)\n",
        "plt.figure(figsize=(8,6), dpi=100)\n",
        "plt.imshow(nuvem)"
      ],
      "metadata": {
        "colab": {
          "base_uri": "https://localhost:8080/"
        },
        "id": "RJtCLXVCU8Ch",
        "outputId": "e4def864-54b4-45e3-bd49-1e07d25e73e4"
      },
      "execution_count": null,
      "outputs": [
        {
          "output_type": "execute_result",
          "data": {
            "text/plain": [
              "<matplotlib.image.AxesImage at 0x7f07d931fe90>"
            ]
          },
          "metadata": {},
          "execution_count": 19
        },
        {
          "output_type": "display_data",
          "data": {
            "text/plain": [
              "<Figure size 800x600 with 1 Axes>"
            ],
            "image/png": "[encoded data removed]"
          },
          "metadata": {
            "needs_background": "light"
          }
        }
      ]
    },
    {
      "cell_type": "markdown",
      "source": [
        "### Tratamento de \"Titulo\""
      ],
      "metadata": {
        "id": "a13jRevAVTtw"
      }
    },
    {
      "cell_type": "markdown",
      "source": [
        "✅ Para realizar o tratamento dos Títulos, extraimos todas as pontuações, acentos e caracteres especiais das palavras, como também, retiramos os StopWords e executamos a lematização através da função **Processamento**."
      ],
      "metadata": {
        "id": "g-BABLvhbIXl"
      }
    },
    {
      "cell_type": "code",
      "source": [
        "documentos_titulo = []\n",
        "for titulo in titulos:\n",
        "    \n",
        "    # expressao regular para remover pontuacoes do texto\n",
        "    titulo = re.sub(r'(@[A-Za-z0-9]+)|([^0-9A-Za-z \\t])|(\\w+:\\/\\/\\S+)|^rt|http.+?','', titulo)\n",
        "    tokens_t = processamento(word_tokenize(titulo))\n",
        "    \n",
        "    documentos_titulo.append(' '.join(tokens_t))"
      ],
      "metadata": {
        "id": "kDz07Ix0Vavc"
      },
      "execution_count": null,
      "outputs": []
    },
    {
      "cell_type": "code",
      "source": [
        "documentos_titulo[0]"
      ],
      "metadata": {
        "colab": {
          "base_uri": "https://localhost:8080/"
        },
        "id": "wt8dKKkscXhd",
        "outputId": "b148994d-0a00-4157-9678-425148f843ad"
      },
      "execution_count": null,
      "outputs": [
        {
          "output_type": "execute_result",
          "data": {
            "text/plain": [
              "'multilevel attent pool graph neural network unifi graph represent multipl local'"
            ],
            "application/vnd.google.colaboratory.intrinsic+json": {
              "type": "string"
            }
          },
          "metadata": {},
          "execution_count": 21
        }
      ]
    },
    {
      "cell_type": "markdown",
      "source": [
        "## Classificação multi rótulos. \n",
        "Implementação de 3 classificadores diferentes e comparativo de performances."
      ],
      "metadata": {
        "id": "Jit55Ow6XTsN"
      }
    },
    {
      "cell_type": "markdown",
      "source": [
        "### Modelos baseados em Títulos"
      ],
      "metadata": {
        "id": "y3YUkhLoi74O"
      }
    },
    {
      "cell_type": "markdown",
      "source": [
        "### ✅ SGDClassifier baseados em Títulos:"
      ],
      "metadata": {
        "id": "LBDFvogr8KU5"
      }
    },
    {
      "cell_type": "code",
      "source": [
        "from sklearn.metrics import accuracy_score, precision_score, recall_score"
      ],
      "metadata": {
        "id": "LUghV-lECifU"
      },
      "execution_count": null,
      "outputs": []
    },
    {
      "cell_type": "code",
      "source": [
        "X_train_counts = vectorizer.fit_transform(documentos_titulo)\n",
        "X_train_tfidf = tfidf_transformer.fit_transform(X_train_counts)\n",
        "\n",
        "X_new = X_train_tfidf"
      ],
      "metadata": {
        "id": "a88PmG_F6ueJ"
      },
      "execution_count": null,
      "outputs": []
    },
    {
      "cell_type": "code",
      "source": [
        "split_validation = train_test_split(X_new, y, sinopses, test_size=0.20, stratify = y, random_state=10)\n",
        "\n",
        "(X_train, X_test)             = split_validation[:2]\n",
        "(y_train, y_test)             = split_validation[2:4]\n",
        "(titulos_train, titulos_test) = split_validation[4:]\n",
        "\n",
        "svm = SGDClassifier() \n",
        "clf = OneVsRestClassifier(svm)\n",
        "clf.fit(X_train, y_train)\n",
        "y_pred = clf.predict(X_test)"
      ],
      "metadata": {
        "colab": {
          "base_uri": "https://localhost:8080/"
        },
        "id": "rpLAg7H672EB",
        "outputId": "a8a20b0d-f081-4591-f60c-da09e380bbee"
      },
      "execution_count": null,
      "outputs": [
        {
          "output_type": "stream",
          "name": "stderr",
          "text": [
            "/usr/local/lib/python3.7/dist-packages/sklearn/multiclass.py:80: UserWarning: Label 11 is present in all training examples.\n",
            "  \"Label %s is present in all training examples.\" % str(classes[c])\n",
            "/usr/local/lib/python3.7/dist-packages/sklearn/multiclass.py:80: UserWarning: Label 13 is present in all training examples.\n",
            "  \"Label %s is present in all training examples.\" % str(classes[c])\n"
          ]
        }
      ]
    },
    {
      "cell_type": "code",
      "source": [
        "print('Resultado F1: {:.4f}'.format( f1_score(y_test, y_pred, average=\"micro\")))\n",
        "print('Acurácia', round(accuracy_score(y_test, y_pred), 3))"
      ],
      "metadata": {
        "colab": {
          "base_uri": "https://localhost:8080/"
        },
        "id": "gd5HB9pq8INq",
        "outputId": "8b2186ce-8f90-4c1e-b182-17d4372940e6"
      },
      "execution_count": null,
      "outputs": [
        {
          "output_type": "stream",
          "name": "stdout",
          "text": [
            "Resultado F1: 0.8213\n",
            "Acurácia 0.481\n"
          ]
        }
      ]
    },
    {
      "cell_type": "markdown",
      "source": [
        "### ✅ Random Forest baseados em Títulos:"
      ],
      "metadata": {
        "id": "ilZOtYHE8lsy"
      }
    },
    {
      "cell_type": "code",
      "source": [
        "from sklearn.ensemble import RandomForestClassifier"
      ],
      "metadata": {
        "id": "HStj8ZK9QGZy"
      },
      "execution_count": null,
      "outputs": []
    },
    {
      "cell_type": "code",
      "source": [
        "split_validation = train_test_split(X_new, y, sinopses, test_size=0.20, stratify = y, random_state=10)\n",
        "\n",
        "(X_train, X_test)             = split_validation[:2]\n",
        "(y_train, y_test)             = split_validation[2:4]\n",
        "(titulos_train, titulos_test) = split_validation[4:]\n",
        "\n",
        "floresta = RandomForestClassifier()\n",
        "floresta.fit(X_train, y_train)\n",
        "y_pred = floresta.predict(X_test)"
      ],
      "metadata": {
        "id": "ttR4qyQA8uLh"
      },
      "execution_count": null,
      "outputs": []
    },
    {
      "cell_type": "code",
      "source": [
        "print('Resultado F1: {:.4f}'.format( f1_score(y_test, y_pred, average=\"micro\")))\n",
        "print('Acurácia', round(accuracy_score(y_test, y_pred), 3))"
      ],
      "metadata": {
        "colab": {
          "base_uri": "https://localhost:8080/"
        },
        "id": "22J9t1AT8v0a",
        "outputId": "b6533c21-b3d3-42de-a041-91a4e48e10df"
      },
      "execution_count": null,
      "outputs": [
        {
          "output_type": "stream",
          "name": "stdout",
          "text": [
            "Resultado F1: 0.8909\n",
            "Acurácia 0.681\n"
          ]
        }
      ]
    },
    {
      "cell_type": "markdown",
      "source": [
        "### ✅ KNN baseados em Títulos:"
      ],
      "metadata": {
        "id": "hEVYI6S98wrR"
      }
    },
    {
      "cell_type": "code",
      "source": [
        "from sklearn.neighbors import KNeighborsClassifier"
      ],
      "metadata": {
        "id": "cjuzYx884Ib1"
      },
      "execution_count": null,
      "outputs": []
    },
    {
      "cell_type": "code",
      "source": [
        "split_validation = train_test_split(X_new, y, sinopses, test_size=0.20, stratify = y, random_state=10)\n",
        "\n",
        "(X_train, X_test)             = split_validation[:2]\n",
        "(y_train, y_test)             = split_validation[2:4]\n",
        "(titulos_train, titulos_test) = split_validation[4:]\n",
        "\n",
        "Kvizinhos = KNeighborsClassifier()\n",
        "Kvizinhos.fit(X_train, y_train)\n",
        "y_pred = Kvizinhos.predict(X_test)"
      ],
      "metadata": {
        "id": "bwQQGSF68_UK"
      },
      "execution_count": null,
      "outputs": []
    },
    {
      "cell_type": "code",
      "source": [
        "print('Resultado F1: {:.4f}'.format( f1_score(y_test, y_pred, average=\"micro\")))\n",
        "print('Acurácia', round(accuracy_score(y_test, y_pred), 3))"
      ],
      "metadata": {
        "colab": {
          "base_uri": "https://localhost:8080/"
        },
        "id": "DQU1ZOyP9BcY",
        "outputId": "e1dd8ff4-1576-4cbf-a29f-e0fe0e1875e8"
      },
      "execution_count": null,
      "outputs": [
        {
          "output_type": "stream",
          "name": "stdout",
          "text": [
            "Resultado F1: 0.7979\n",
            "Acurácia 0.283\n"
          ]
        }
      ]
    },
    {
      "cell_type": "markdown",
      "source": [
        "### Modelos baseados em Sinopses"
      ],
      "metadata": {
        "id": "sRChagwoXMJd"
      }
    },
    {
      "cell_type": "markdown",
      "source": [
        "### ✅ O Primeiro Modelo aplicado é o SGDClassifier. \n",
        "\n",
        "**Sklearn**: Este estimador implementa modelos lineares regularizados com aprendizado estocástico de gradiente descendente (SGD): o gradiente da perda é estimado em cada amostra de cada vez e o modelo é atualizado ao longo do caminho com um cronograma de força decrescente (também conhecido como taxa de aprendizado). O SGD permite o aprendizado em minilote."
      ],
      "metadata": {
        "id": "ejnVB2b7c3DM"
      }
    },
    {
      "cell_type": "code",
      "source": [
        "split_validation = train_test_split(X, y, titulos, test_size=0.20, stratify = y, random_state=10)\n",
        "\n",
        "(X_train, X_test)             = split_validation[:2]\n",
        "(y_train, y_test)             = split_validation[2:4]\n",
        "(titulos_train, titulos_test) = split_validation[4:]\n",
        "\n",
        "svm = SGDClassifier() \n",
        "clf = OneVsRestClassifier(svm)\n",
        "clf.fit(X_train, y_train)\n",
        "y_pred = clf.predict(X_test)"
      ],
      "metadata": {
        "colab": {
          "base_uri": "https://localhost:8080/"
        },
        "id": "-z8Z0yADKRpH",
        "outputId": "1e2b7f76-c3ad-4382-ecd9-8185b7576e47"
      },
      "execution_count": null,
      "outputs": [
        {
          "output_type": "stream",
          "name": "stderr",
          "text": [
            "/usr/local/lib/python3.7/dist-packages/sklearn/multiclass.py:80: UserWarning: Label 11 is present in all training examples.\n",
            "  \"Label %s is present in all training examples.\" % str(classes[c])\n",
            "/usr/local/lib/python3.7/dist-packages/sklearn/multiclass.py:80: UserWarning: Label 13 is present in all training examples.\n",
            "  \"Label %s is present in all training examples.\" % str(classes[c])\n"
          ]
        }
      ]
    },
    {
      "cell_type": "code",
      "source": [
        "print('Resultado F1: {:.4f}'.format( f1_score(y_test, y_pred, average=\"micro\")))\n",
        "print('Acurácia', round(accuracy_score(y_test, y_pred), 3))"
      ],
      "metadata": {
        "colab": {
          "base_uri": "https://localhost:8080/"
        },
        "id": "EcPLTV-0fKMm",
        "outputId": "d488b08c-a2cd-4816-f64e-a79fc36dd9c5"
      },
      "execution_count": null,
      "outputs": [
        {
          "output_type": "stream",
          "name": "stdout",
          "text": [
            "Resultado F1: 0.8647\n",
            "Acurácia 0.535\n"
          ]
        }
      ]
    },
    {
      "cell_type": "markdown",
      "source": [
        "### ✅O segundo Modelo aplicado é o Random Forest.\n",
        "\n",
        "**Sklearn**: Uma floresta aleatória é um meta estimador que ajusta vários classificadores de árvore de decisão em várias subamostras do conjunto de dados e usa a média para melhorar a precisão preditiva e controlar o ajuste excessivo. O tamanho da subamostra é controlado com o max_samples parâmetro if bootstrap=True(padrão), caso contrário, todo o conjunto de dados é usado para construir cada árvore."
      ],
      "metadata": {
        "id": "zoBVjzDIodVK"
      }
    },
    {
      "cell_type": "code",
      "source": [
        "split_validation = train_test_split(X, y, titulos, test_size=0.20, stratify = y, random_state=10)\n",
        "\n",
        "(X_train, X_test)             = split_validation[:2]\n",
        "(y_train, y_test)             = split_validation[2:4]\n",
        "(titulos_train, titulos_test) = split_validation[4:]\n",
        "\n",
        "floresta = RandomForestClassifier()\n",
        "floresta.fit(X_train, y_train)\n",
        "y_pred = floresta.predict(X_test)"
      ],
      "metadata": {
        "id": "_C8MtekzKfYo"
      },
      "execution_count": null,
      "outputs": []
    },
    {
      "cell_type": "code",
      "source": [
        "print('Resultado F1: {:.4f}'.format( f1_score(y_test, y_pred, average=\"micro\")))\n",
        "print('Acurácia', round(accuracy_score(y_test, y_pred), 3))"
      ],
      "metadata": {
        "colab": {
          "base_uri": "https://localhost:8080/"
        },
        "id": "-XVmYkeOgl3m",
        "outputId": "81e89bf4-3f4a-4d12-b7db-08cfd37f1e30"
      },
      "execution_count": null,
      "outputs": [
        {
          "output_type": "stream",
          "name": "stdout",
          "text": [
            "Resultado F1: 0.9012\n",
            "Acurácia 0.73\n"
          ]
        }
      ]
    },
    {
      "cell_type": "markdown",
      "source": [
        "### ✅O Terceiro Modelo aplicado é o KNN.\n",
        "\n",
        "Sklearn: Classificador implementando o voto dos k-vizinhos mais próximos."
      ],
      "metadata": {
        "id": "CweldY8L80vD"
      }
    },
    {
      "cell_type": "code",
      "source": [
        "split_validation = train_test_split(X, y, titulos, test_size=0.20, stratify = y, random_state=10)\n",
        "\n",
        "(X_train, X_test)             = split_validation[:2]\n",
        "(y_train, y_test)             = split_validation[2:4]\n",
        "(titulos_train, titulos_test) = split_validation[4:]\n",
        "\n",
        "Kvizinhos = KNeighborsClassifier()\n",
        "Kvizinhos.fit(X_train, y_train)\n",
        "y_pred = Kvizinhos.predict(X_test)"
      ],
      "metadata": {
        "id": "XNingI11rz35"
      },
      "execution_count": null,
      "outputs": []
    },
    {
      "cell_type": "code",
      "source": [
        "print('Resultado F1: {:.4f}'.format( f1_score(y_test, y_pred, average=\"micro\")))\n",
        "print('Acurácia', round(accuracy_score(y_test, y_pred), 3))"
      ],
      "metadata": {
        "colab": {
          "base_uri": "https://localhost:8080/"
        },
        "id": "TAdHidJz4CuB",
        "outputId": "a7563a6b-85fd-4a3a-e23a-acb6c2a4d3a1"
      },
      "execution_count": null,
      "outputs": [
        {
          "output_type": "stream",
          "name": "stdout",
          "text": [
            "Resultado F1: 0.8472\n",
            "Acurácia 0.537\n"
          ]
        }
      ]
    },
    {
      "cell_type": "markdown",
      "source": [
        "## Comparativo de resultados obtidos. Qual atributo é mais discriminativo."
      ],
      "metadata": {
        "id": "YMpbvWFzXX1O"
      }
    },
    {
      "cell_type": "markdown",
      "source": [
        "✅ **RESULTADOS:**\n",
        "\n",
        "**Modelos baseados em Títulos:**\n",
        "\n",
        "**SGDClassifier**: F1: 0.8213 | Acurácia 0.481\n",
        "\n",
        "\n",
        "**Random Forest**: F1: 0.8909 | Acurácia 0.681\n",
        "\n",
        "\n",
        "**KNN**: F1: 0.7979 | Acurácia 0.283\n",
        "\n",
        "\n",
        ".\n",
        "\n",
        "**Modelos baseados em Sinopses:**\n",
        "\n",
        "**SGDClassifier**: F1: 0.8647 | Acurácia 0.535\n",
        "\n",
        "\n",
        "\n",
        "**Random Forest**: F1: 0.9012 | Acurácia 0.73\n",
        "\n",
        "\n",
        "\n",
        "**KNN**: F1: 0.8472 | Acurácia 0.537"
      ],
      "metadata": {
        "id": "X-64h6oc_vwj"
      }
    },
    {
      "cell_type": "markdown",
      "source": [
        "**Resposta**: Como esperado, os modelos baseados em Sinopses possuem resultados melhores, pois são treinados com dados que possuem maior ganho de informação sobre o conteúdo a ser classificado em cada Categoria de Artigo Ciêntifico."
      ],
      "metadata": {
        "id": "5q89vPhuDk9F"
      }
    }
  ]
}